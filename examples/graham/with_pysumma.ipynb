{
 "cells": [
  {
   "cell_type": "code",
   "execution_count": 1,
   "id": "3a6e52e3-3788-40a7-a65c-107c9c6c4e01",
   "metadata": {},
   "outputs": [
    {
     "name": "stderr",
     "output_type": "stream",
     "text": [
      "/home/ayx374/.local/easybuild/software/2020/avx2/MPI/gcc9/openmpi4/geo-stack/2022a/lib/python3.8/site-packages/geopandas/_compat.py:111: UserWarning: The Shapely GEOS version (3.10.2-CAPI-1.16.0) is incompatible with the GEOS version PyGEOS was compiled with (3.9.1-CAPI-1.14.2). Conversions between both will be slow.\n",
      "  warnings.warn(\n",
      "/home/ayx374/.local/easybuild/software/2020/avx2/MPI/gcc9/openmpi4/geo-stack/2022a/lib/python3.8/site-packages/geopandas/_compat.py:111: UserWarning: The Shapely GEOS version (3.10.2-CAPI-1.16.0) is incompatible with the GEOS version PyGEOS was compiled with (3.9.1-CAPI-1.14.2). Conversions between both will be slow.\n",
      "  warnings.warn(\n"
     ]
    }
   ],
   "source": [
    "%load_ext autoreload\n",
    "%autoreload 2\n",
    "\n",
    "import os\n",
    "import hydromt\n",
    "from hydromt_summa.summa import SummaModel\n",
    "from hydromt import workflows, flw\n",
    "import xarray as xr\n",
    "from hydromt.log import setuplog\n",
    "import numpy as np"
   ]
  },
  {
   "cell_type": "code",
   "execution_count": 2,
   "id": "881a60a7-99ec-4cb4-90d6-188cc40525ba",
   "metadata": {},
   "outputs": [],
   "source": [
    "import pysumma as ps"
   ]
  },
  {
   "cell_type": "code",
   "execution_count": 48,
   "id": "a2d164f0-7e31-475b-8a37-c8cd077e5ba8",
   "metadata": {},
   "outputs": [],
   "source": [
    "# Define location of .exe and file manager\n",
    "executable = '/home/ayx374/installs/summa/bin/summa.exe'\n",
    "file_manager = './summa_bowatbanff_shapes_2008_2013/fileManager.txt'"
   ]
  },
  {
   "cell_type": "code",
   "execution_count": 25,
   "id": "eba61dd0-c860-4171-97db-bc6dd3215d2f",
   "metadata": {},
   "outputs": [],
   "source": [
    "# Create a model instance\n",
    "s = ps.Simulation(executable, file_manager)"
   ]
  },
  {
   "cell_type": "code",
   "execution_count": 26,
   "id": "d6a43262-927e-4666-ae0e-1eeb393426c9",
   "metadata": {},
   "outputs": [
    {
     "data": {
      "text/plain": [
       "<pysumma.file_manager.FileManager at 0x2acc57f2c3a0>"
      ]
     },
     "execution_count": 26,
     "metadata": {},
     "output_type": "execute_result"
    }
   ],
   "source": [
    "s.manager"
   ]
  },
  {
   "cell_type": "code",
   "execution_count": 27,
   "id": "c4216547-3fc9-4539-8057-68b3b0696921",
   "metadata": {},
   "outputs": [
    {
     "name": "stdout",
     "output_type": "stream",
     "text": [
      "controlVersion                       'SUMMA_FILE_MANAGER_V3.0.0'\n",
      "simStartTime                         '2008-01-01 00:00'\n",
      "simEndTime                           '2013-12-31 23:00'\n",
      "tmZoneInfo                           'utcTime'\n",
      "outFilePrefix                        'test_hydromt_summa'\n",
      "settingsPath                         '/home/ayx374/Github/hydromt_summa/examples/graham/summa_bowatbanff_shapes_2008_2013/'\n",
      "forcingPath                          '/home/ayx374/Github/hydromt_summa/examples/graham/summa_bowatbanff_shapes_2008_2013/forcing/'\n",
      "outputPath                           '/home/ayx374/Github/hydromt_summa/examples/graham/summa_bowatbanff_shapes_2008_2013/output/'\n",
      "initConditionFile                    'coldState.nc'\n",
      "attributeFile                        'attributes.nc'\n",
      "trialParamFile                       'trialParams.nc'\n",
      "forcingListFile                      'forcingFileList.txt'\n",
      "decisionsFile                        'modelDecisions.txt'\n",
      "outputControlFile                    'outputControl.txt'\n",
      "globalHruParamFile                   'localParamInfo.txt'\n",
      "globalGruParamFile                   'basinParamInfo.txt'\n",
      "vegTableFile                         'TBL_VEGPARM.TBL'\n",
      "soilTableFile                        'TBL_SOILPARM.TBL'\n",
      "generalTableFile                     'TBL_GENPARM.TBL'\n",
      "noahmpTableFile                      'TBL_MPTABLE.TBL'\n"
     ]
    }
   ],
   "source": [
    "print(s.manager)"
   ]
  },
  {
   "cell_type": "code",
   "execution_count": 28,
   "id": "9b20c988-12cb-4259-bf89-68613bdca479",
   "metadata": {},
   "outputs": [
    {
     "name": "stdout",
     "output_type": "stream",
     "text": [
      "soilCatTbl    ROSETTA              ! soil-category dataset\n",
      "vegeParTbl    MODIFIED_IGBP_MODIS_NOAH ! vegetation-category dataset\n",
      "soilStress    NoahType             ! choice of function for the soil moisture control on stomatal resistance\n",
      "stomResist    BallBerry            ! choice of function for stomatal resistance\n",
      "num_method    itertive             ! choice of numerical method\n",
      "fDerivMeth    analytic             ! choice of method to calculate flux derivatives\n",
      "LAI_method    monTable             ! choice of method to determine LAI and SAI\n",
      "f_Richards    mixdform             ! form of Richards equation\n",
      "groundwatr    bigBuckt             ! choice of groundwater parameterization\n",
      "hc_profile    constant             ! choice of hydraulic conductivity profile\n",
      "bcUpprTdyn    nrg_flux             ! type of upper boundary condition for thermodynamics\n",
      "bcLowrTdyn    zeroFlux             ! type of lower boundary condition for thermodynamics\n",
      "bcUpprSoiH    liq_flux             ! type of upper boundary condition for soil hydrology\n",
      "bcLowrSoiH    drainage             ! type of lower boundary condition for soil hydrology\n",
      "veg_traits    Raupach_BLM1994      ! choice of parameterization for vegetation roughness length and displacement height\n",
      "canopyEmis    difTrans             ! choice of parameterization for canopy emissivity\n",
      "snowIncept    stickySnow           ! choice of parameterization for snow interception\n",
      "windPrfile    logBelowCanopy       ! choice of canopy wind profile\n",
      "astability    louisinv             ! choice of stability function\n",
      "canopySrad    BeersLaw             ! choice of method for canopy shortwave radiation\n",
      "alb_method    conDecay             ! choice of albedo representation\n",
      "compaction    anderson             ! choice of compaction routine\n",
      "snowLayers    CLM_2010             ! choice of method to combine and sub-divide snow layers\n",
      "thCondSnow    jrdn1991             ! choice of thermal conductivity representation for snow\n",
      "thCondSoil    funcSoilWet          ! choice of thermal conductivity representation for soil\n",
      "spatial_gw    localColumn          ! choice of method for spatial representation of groundwater\n",
      "subRouting    timeDlay             ! choice of method for sub-grid routing\n"
     ]
    }
   ],
   "source": [
    "print(s.decisions)"
   ]
  },
  {
   "cell_type": "code",
   "execution_count": 3,
   "id": "6fcdd211-f533-4878-9086-273d006b1140",
   "metadata": {},
   "outputs": [],
   "source": [
    "root = os.path.join('./summa_bowatbanff_shapes_2008_2013')\n",
    "mod = SummaModel(root=root, mode=\"r+\")"
   ]
  },
  {
   "cell_type": "code",
   "execution_count": 4,
   "id": "479c2366-47cd-4a78-abd3-1806af163898",
   "metadata": {},
   "outputs": [],
   "source": [
    "mod.read()"
   ]
  },
  {
   "cell_type": "code",
   "execution_count": 5,
   "id": "f3db81a8-6ffa-4855-beb0-231974dd8a58",
   "metadata": {},
   "outputs": [],
   "source": [
    "s = mod.Simulation"
   ]
  },
  {
   "cell_type": "code",
   "execution_count": 10,
   "id": "3627cb1e-3d34-43d5-b539-02b6bf5677c9",
   "metadata": {},
   "outputs": [
    {
     "name": "stdout",
     "output_type": "stream",
     "text": [
      "snowIncept    stickySnow           ! choice of parameterization for snow interception\n"
     ]
    }
   ],
   "source": [
    "# Get just the `snowIncept` option\n",
    "print(s.decisions['snowIncept'])"
   ]
  },
  {
   "cell_type": "code",
   "execution_count": 13,
   "id": "a6cdbffb-9868-4a0f-a6f9-a899e8c46802",
   "metadata": {},
   "outputs": [
    {
     "name": "stdout",
     "output_type": "stream",
     "text": [
      "snowIncept    lightSnow            ! choice of parameterization for snow interception\n"
     ]
    }
   ],
   "source": [
    "# Change the value\n",
    "s.decisions['snowIncept'] = 'lightSnow'\n",
    "print(s.decisions['snowIncept'])"
   ]
  },
  {
   "cell_type": "code",
   "execution_count": 13,
   "id": "59e1fb7c-bf84-4a79-b949-700fac281b71",
   "metadata": {},
   "outputs": [],
   "source": [
    "s.decisions.write()"
   ]
  },
  {
   "cell_type": "code",
   "execution_count": 14,
   "id": "ddaa5a8c-6205-49b5-a12e-6320937a2a0a",
   "metadata": {},
   "outputs": [],
   "source": [
    "s._write_configuration()"
   ]
  },
  {
   "cell_type": "code",
   "execution_count": 38,
   "id": "9320b0b1-bb17-4041-bc4b-680488de779c",
   "metadata": {},
   "outputs": [
    {
     "data": {
      "text/plain": [
       "'/home/ayx374/Github/hydromt_summa/examples/graham'"
      ]
     },
     "execution_count": 38,
     "metadata": {},
     "output_type": "execute_result"
    }
   ],
   "source": [
    "import os\n",
    "os.getcwd()"
   ]
  },
  {
   "cell_type": "code",
   "execution_count": 39,
   "id": "036a7a62-90ea-4824-b606-69fbd185574c",
   "metadata": {},
   "outputs": [
    {
     "data": {
      "text/plain": [
       "'/home/ayx374/Github/hydromt_summa/examples/graham/summa_bowatbanff_shapes_2008_2013'"
      ]
     },
     "execution_count": 39,
     "metadata": {},
     "output_type": "execute_result"
    }
   ],
   "source": [
    "settings_path = os.path.abspath(os.path.realpath(str(s.manager['settingsPath'].value)))\n",
    "settings_path"
   ]
  },
  {
   "cell_type": "code",
   "execution_count": 40,
   "id": "d7de876c-efb2-4c6d-bf3f-92d55a0cb0c3",
   "metadata": {},
   "outputs": [
    {
     "data": {
      "text/plain": [
       "PosixPath('/home/ayx374/Github/hydromt_summa/examples/graham/summa_bowatbanff_shapes_2008_2013')"
      ]
     },
     "execution_count": 40,
     "metadata": {},
     "output_type": "execute_result"
    }
   ],
   "source": [
    "s.config_path"
   ]
  },
  {
   "cell_type": "code",
   "execution_count": 41,
   "id": "4c3fec0d-1609-4e39-b37f-cc42c4783b71",
   "metadata": {},
   "outputs": [
    {
     "data": {
      "text/plain": [
       "PosixPath('/home/ayx374/Github/hydromt_summa/examples/graham/summa_bowatbanff_shapes_2008_2013/fileManager.txt')"
      ]
     },
     "execution_count": 41,
     "metadata": {},
     "output_type": "execute_result"
    }
   ],
   "source": [
    "s.manager_path"
   ]
  },
  {
   "cell_type": "code",
   "execution_count": 42,
   "id": "5a914b15-ec1f-4f60-af99-94f6ead864d2",
   "metadata": {},
   "outputs": [
    {
     "data": {
      "text/plain": [
       "PosixPath('/home/ayx374/Github/hydromt_summa/examples/graham/summa_bowatbanff_shapes_2008_2013')"
      ]
     },
     "execution_count": 42,
     "metadata": {},
     "output_type": "execute_result"
    }
   ],
   "source": [
    "s.manager_path.parent"
   ]
  },
  {
   "cell_type": "code",
   "execution_count": 44,
   "id": "12370965-e8c5-4bd6-a66a-4f34a5d395e6",
   "metadata": {},
   "outputs": [],
   "source": [
    "s.reset()"
   ]
  },
  {
   "cell_type": "code",
   "execution_count": 7,
   "id": "64a73064-2040-4502-a7c6-e2d5c00402f7",
   "metadata": {},
   "outputs": [
    {
     "data": {
      "text/plain": [
       "PosixPath('/home/ayx374/Github/hydromt_summa/examples/graham/summa_bowatbanff_shapes_2008_2013')"
      ]
     },
     "execution_count": 7,
     "metadata": {},
     "output_type": "execute_result"
    }
   ],
   "source": [
    "s.config_path"
   ]
  },
  {
   "cell_type": "code",
   "execution_count": 9,
   "id": "ef8787fa-e63e-46db-8757-ffa7da8be737",
   "metadata": {},
   "outputs": [
    {
     "name": "stdout",
     "output_type": "stream",
     "text": [
      "['stickySnow', 'lightSnow']\n"
     ]
    }
   ],
   "source": [
    "# Look at what we can set it to\n",
    "print(s.decisions['snowIncept'].available_options)"
   ]
  },
  {
   "cell_type": "code",
   "execution_count": 15,
   "id": "d95f3773-c625-43a4-9443-5726b8ad22ab",
   "metadata": {},
   "outputs": [
    {
     "data": {
      "text/plain": [
       "True"
      ]
     },
     "execution_count": 15,
     "metadata": {},
     "output_type": "execute_result"
    }
   ],
   "source": [
    "hasattr(mod,'Simulation')"
   ]
  },
  {
   "cell_type": "code",
   "execution_count": 17,
   "id": "550130bb-a808-429a-8b1f-0b6ed340db3c",
   "metadata": {},
   "outputs": [
    {
     "data": {
      "text/html": [
       "<div><svg style=\"position: absolute; width: 0; height: 0; overflow: hidden\">\n",
       "<defs>\n",
       "<symbol id=\"icon-database\" viewBox=\"0 0 32 32\">\n",
       "<path d=\"M16 0c-8.837 0-16 2.239-16 5v4c0 2.761 7.163 5 16 5s16-2.239 16-5v-4c0-2.761-7.163-5-16-5z\"></path>\n",
       "<path d=\"M16 17c-8.837 0-16-2.239-16-5v6c0 2.761 7.163 5 16 5s16-2.239 16-5v-6c0 2.761-7.163 5-16 5z\"></path>\n",
       "<path d=\"M16 26c-8.837 0-16-2.239-16-5v6c0 2.761 7.163 5 16 5s16-2.239 16-5v-6c0 2.761-7.163 5-16 5z\"></path>\n",
       "</symbol>\n",
       "<symbol id=\"icon-file-text2\" viewBox=\"0 0 32 32\">\n",
       "<path d=\"M28.681 7.159c-0.694-0.947-1.662-2.053-2.724-3.116s-2.169-2.030-3.116-2.724c-1.612-1.182-2.393-1.319-2.841-1.319h-15.5c-1.378 0-2.5 1.121-2.5 2.5v27c0 1.378 1.122 2.5 2.5 2.5h23c1.378 0 2.5-1.122 2.5-2.5v-19.5c0-0.448-0.137-1.23-1.319-2.841zM24.543 5.457c0.959 0.959 1.712 1.825 2.268 2.543h-4.811v-4.811c0.718 0.556 1.584 1.309 2.543 2.268zM28 29.5c0 0.271-0.229 0.5-0.5 0.5h-23c-0.271 0-0.5-0.229-0.5-0.5v-27c0-0.271 0.229-0.5 0.5-0.5 0 0 15.499-0 15.5 0v7c0 0.552 0.448 1 1 1h7v19.5z\"></path>\n",
       "<path d=\"M23 26h-14c-0.552 0-1-0.448-1-1s0.448-1 1-1h14c0.552 0 1 0.448 1 1s-0.448 1-1 1z\"></path>\n",
       "<path d=\"M23 22h-14c-0.552 0-1-0.448-1-1s0.448-1 1-1h14c0.552 0 1 0.448 1 1s-0.448 1-1 1z\"></path>\n",
       "<path d=\"M23 18h-14c-0.552 0-1-0.448-1-1s0.448-1 1-1h14c0.552 0 1 0.448 1 1s-0.448 1-1 1z\"></path>\n",
       "</symbol>\n",
       "</defs>\n",
       "</svg>\n",
       "<style>/* CSS stylesheet for displaying xarray objects in jupyterlab.\n",
       " *\n",
       " */\n",
       "\n",
       ":root {\n",
       "  --xr-font-color0: var(--jp-content-font-color0, rgba(0, 0, 0, 1));\n",
       "  --xr-font-color2: var(--jp-content-font-color2, rgba(0, 0, 0, 0.54));\n",
       "  --xr-font-color3: var(--jp-content-font-color3, rgba(0, 0, 0, 0.38));\n",
       "  --xr-border-color: var(--jp-border-color2, #e0e0e0);\n",
       "  --xr-disabled-color: var(--jp-layout-color3, #bdbdbd);\n",
       "  --xr-background-color: var(--jp-layout-color0, white);\n",
       "  --xr-background-color-row-even: var(--jp-layout-color1, white);\n",
       "  --xr-background-color-row-odd: var(--jp-layout-color2, #eeeeee);\n",
       "}\n",
       "\n",
       "html[theme=dark],\n",
       "body.vscode-dark {\n",
       "  --xr-font-color0: rgba(255, 255, 255, 1);\n",
       "  --xr-font-color2: rgba(255, 255, 255, 0.54);\n",
       "  --xr-font-color3: rgba(255, 255, 255, 0.38);\n",
       "  --xr-border-color: #1F1F1F;\n",
       "  --xr-disabled-color: #515151;\n",
       "  --xr-background-color: #111111;\n",
       "  --xr-background-color-row-even: #111111;\n",
       "  --xr-background-color-row-odd: #313131;\n",
       "}\n",
       "\n",
       ".xr-wrap {\n",
       "  display: block !important;\n",
       "  min-width: 300px;\n",
       "  max-width: 700px;\n",
       "}\n",
       "\n",
       ".xr-text-repr-fallback {\n",
       "  /* fallback to plain text repr when CSS is not injected (untrusted notebook) */\n",
       "  display: none;\n",
       "}\n",
       "\n",
       ".xr-header {\n",
       "  padding-top: 6px;\n",
       "  padding-bottom: 6px;\n",
       "  margin-bottom: 4px;\n",
       "  border-bottom: solid 1px var(--xr-border-color);\n",
       "}\n",
       "\n",
       ".xr-header > div,\n",
       ".xr-header > ul {\n",
       "  display: inline;\n",
       "  margin-top: 0;\n",
       "  margin-bottom: 0;\n",
       "}\n",
       "\n",
       ".xr-obj-type,\n",
       ".xr-array-name {\n",
       "  margin-left: 2px;\n",
       "  margin-right: 10px;\n",
       "}\n",
       "\n",
       ".xr-obj-type {\n",
       "  color: var(--xr-font-color2);\n",
       "}\n",
       "\n",
       ".xr-sections {\n",
       "  padding-left: 0 !important;\n",
       "  display: grid;\n",
       "  grid-template-columns: 150px auto auto 1fr 20px 20px;\n",
       "}\n",
       "\n",
       ".xr-section-item {\n",
       "  display: contents;\n",
       "}\n",
       "\n",
       ".xr-section-item input {\n",
       "  display: none;\n",
       "}\n",
       "\n",
       ".xr-section-item input + label {\n",
       "  color: var(--xr-disabled-color);\n",
       "}\n",
       "\n",
       ".xr-section-item input:enabled + label {\n",
       "  cursor: pointer;\n",
       "  color: var(--xr-font-color2);\n",
       "}\n",
       "\n",
       ".xr-section-item input:enabled + label:hover {\n",
       "  color: var(--xr-font-color0);\n",
       "}\n",
       "\n",
       ".xr-section-summary {\n",
       "  grid-column: 1;\n",
       "  color: var(--xr-font-color2);\n",
       "  font-weight: 500;\n",
       "}\n",
       "\n",
       ".xr-section-summary > span {\n",
       "  display: inline-block;\n",
       "  padding-left: 0.5em;\n",
       "}\n",
       "\n",
       ".xr-section-summary-in:disabled + label {\n",
       "  color: var(--xr-font-color2);\n",
       "}\n",
       "\n",
       ".xr-section-summary-in + label:before {\n",
       "  display: inline-block;\n",
       "  content: '►';\n",
       "  font-size: 11px;\n",
       "  width: 15px;\n",
       "  text-align: center;\n",
       "}\n",
       "\n",
       ".xr-section-summary-in:disabled + label:before {\n",
       "  color: var(--xr-disabled-color);\n",
       "}\n",
       "\n",
       ".xr-section-summary-in:checked + label:before {\n",
       "  content: '▼';\n",
       "}\n",
       "\n",
       ".xr-section-summary-in:checked + label > span {\n",
       "  display: none;\n",
       "}\n",
       "\n",
       ".xr-section-summary,\n",
       ".xr-section-inline-details {\n",
       "  padding-top: 4px;\n",
       "  padding-bottom: 4px;\n",
       "}\n",
       "\n",
       ".xr-section-inline-details {\n",
       "  grid-column: 2 / -1;\n",
       "}\n",
       "\n",
       ".xr-section-details {\n",
       "  display: none;\n",
       "  grid-column: 1 / -1;\n",
       "  margin-bottom: 5px;\n",
       "}\n",
       "\n",
       ".xr-section-summary-in:checked ~ .xr-section-details {\n",
       "  display: contents;\n",
       "}\n",
       "\n",
       ".xr-array-wrap {\n",
       "  grid-column: 1 / -1;\n",
       "  display: grid;\n",
       "  grid-template-columns: 20px auto;\n",
       "}\n",
       "\n",
       ".xr-array-wrap > label {\n",
       "  grid-column: 1;\n",
       "  vertical-align: top;\n",
       "}\n",
       "\n",
       ".xr-preview {\n",
       "  color: var(--xr-font-color3);\n",
       "}\n",
       "\n",
       ".xr-array-preview,\n",
       ".xr-array-data {\n",
       "  padding: 0 5px !important;\n",
       "  grid-column: 2;\n",
       "}\n",
       "\n",
       ".xr-array-data,\n",
       ".xr-array-in:checked ~ .xr-array-preview {\n",
       "  display: none;\n",
       "}\n",
       "\n",
       ".xr-array-in:checked ~ .xr-array-data,\n",
       ".xr-array-preview {\n",
       "  display: inline-block;\n",
       "}\n",
       "\n",
       ".xr-dim-list {\n",
       "  display: inline-block !important;\n",
       "  list-style: none;\n",
       "  padding: 0 !important;\n",
       "  margin: 0;\n",
       "}\n",
       "\n",
       ".xr-dim-list li {\n",
       "  display: inline-block;\n",
       "  padding: 0;\n",
       "  margin: 0;\n",
       "}\n",
       "\n",
       ".xr-dim-list:before {\n",
       "  content: '(';\n",
       "}\n",
       "\n",
       ".xr-dim-list:after {\n",
       "  content: ')';\n",
       "}\n",
       "\n",
       ".xr-dim-list li:not(:last-child):after {\n",
       "  content: ',';\n",
       "  padding-right: 5px;\n",
       "}\n",
       "\n",
       ".xr-has-index {\n",
       "  font-weight: bold;\n",
       "}\n",
       "\n",
       ".xr-var-list,\n",
       ".xr-var-item {\n",
       "  display: contents;\n",
       "}\n",
       "\n",
       ".xr-var-item > div,\n",
       ".xr-var-item label,\n",
       ".xr-var-item > .xr-var-name span {\n",
       "  background-color: var(--xr-background-color-row-even);\n",
       "  margin-bottom: 0;\n",
       "}\n",
       "\n",
       ".xr-var-item > .xr-var-name:hover span {\n",
       "  padding-right: 5px;\n",
       "}\n",
       "\n",
       ".xr-var-list > li:nth-child(odd) > div,\n",
       ".xr-var-list > li:nth-child(odd) > label,\n",
       ".xr-var-list > li:nth-child(odd) > .xr-var-name span {\n",
       "  background-color: var(--xr-background-color-row-odd);\n",
       "}\n",
       "\n",
       ".xr-var-name {\n",
       "  grid-column: 1;\n",
       "}\n",
       "\n",
       ".xr-var-dims {\n",
       "  grid-column: 2;\n",
       "}\n",
       "\n",
       ".xr-var-dtype {\n",
       "  grid-column: 3;\n",
       "  text-align: right;\n",
       "  color: var(--xr-font-color2);\n",
       "}\n",
       "\n",
       ".xr-var-preview {\n",
       "  grid-column: 4;\n",
       "}\n",
       "\n",
       ".xr-var-name,\n",
       ".xr-var-dims,\n",
       ".xr-var-dtype,\n",
       ".xr-preview,\n",
       ".xr-attrs dt {\n",
       "  white-space: nowrap;\n",
       "  overflow: hidden;\n",
       "  text-overflow: ellipsis;\n",
       "  padding-right: 10px;\n",
       "}\n",
       "\n",
       ".xr-var-name:hover,\n",
       ".xr-var-dims:hover,\n",
       ".xr-var-dtype:hover,\n",
       ".xr-attrs dt:hover {\n",
       "  overflow: visible;\n",
       "  width: auto;\n",
       "  z-index: 1;\n",
       "}\n",
       "\n",
       ".xr-var-attrs,\n",
       ".xr-var-data {\n",
       "  display: none;\n",
       "  background-color: var(--xr-background-color) !important;\n",
       "  padding-bottom: 5px !important;\n",
       "}\n",
       "\n",
       ".xr-var-attrs-in:checked ~ .xr-var-attrs,\n",
       ".xr-var-data-in:checked ~ .xr-var-data {\n",
       "  display: block;\n",
       "}\n",
       "\n",
       ".xr-var-data > table {\n",
       "  float: right;\n",
       "}\n",
       "\n",
       ".xr-var-name span,\n",
       ".xr-var-data,\n",
       ".xr-attrs {\n",
       "  padding-left: 25px !important;\n",
       "}\n",
       "\n",
       ".xr-attrs,\n",
       ".xr-var-attrs,\n",
       ".xr-var-data {\n",
       "  grid-column: 1 / -1;\n",
       "}\n",
       "\n",
       "dl.xr-attrs {\n",
       "  padding: 0;\n",
       "  margin: 0;\n",
       "  display: grid;\n",
       "  grid-template-columns: 125px auto;\n",
       "}\n",
       "\n",
       ".xr-attrs dt,\n",
       ".xr-attrs dd {\n",
       "  padding: 0;\n",
       "  margin: 0;\n",
       "  float: left;\n",
       "  padding-right: 10px;\n",
       "  width: auto;\n",
       "}\n",
       "\n",
       ".xr-attrs dt {\n",
       "  font-weight: normal;\n",
       "  grid-column: 1;\n",
       "}\n",
       "\n",
       ".xr-attrs dt:hover span {\n",
       "  display: inline-block;\n",
       "  background: var(--xr-background-color);\n",
       "  padding-right: 10px;\n",
       "}\n",
       "\n",
       ".xr-attrs dd {\n",
       "  grid-column: 2;\n",
       "  white-space: pre-wrap;\n",
       "  word-break: break-all;\n",
       "}\n",
       "\n",
       ".xr-icon-database,\n",
       ".xr-icon-file-text2 {\n",
       "  display: inline-block;\n",
       "  vertical-align: middle;\n",
       "  width: 1em;\n",
       "  height: 1.5em !important;\n",
       "  stroke-width: 0;\n",
       "  stroke: currentColor;\n",
       "  fill: currentColor;\n",
       "}\n",
       "</style><pre class='xr-text-repr-fallback'>&lt;xarray.Dataset&gt;\n",
       "Dimensions:         (hru: 118, gru: 118)\n",
       "Dimensions without coordinates: hru, gru\n",
       "Data variables: (12/14)\n",
       "    hruId           (hru) int32 48 97 118 1 49 100 2 50 ... 93 45 94 46 95 47 96\n",
       "    gruId           (gru) int32 48 97 118 1 49 100 2 50 ... 93 45 94 46 95 47 96\n",
       "    hru2gruId       (hru) int32 48 97 118 1 49 100 2 50 ... 93 45 94 46 95 47 96\n",
       "    downHRUindex    (hru) int32 0 0 0 0 0 0 0 0 0 0 0 ... 0 0 0 0 0 0 0 0 0 0 0\n",
       "    longitude       (hru) float64 -115.6 -115.6 -115.6 ... -116.3 -116.5 -116.4\n",
       "    latitude        (hru) float64 51.15 51.16 51.17 51.19 ... 51.65 51.67 51.66\n",
       "    ...              ...\n",
       "    tan_slope       (hru) float64 0.1 0.1 0.1 0.1 0.1 ... 0.1 0.1 0.1 0.1 0.1\n",
       "    contourLength   (hru) float64 30.0 30.0 30.0 30.0 ... 30.0 30.0 30.0 30.0\n",
       "    slopeTypeIndex  (hru) int32 1 1 1 1 1 1 1 1 1 1 1 ... 1 1 1 1 1 1 1 1 1 1 1\n",
       "    soilTypeIndex   (hru) int32 3 3 3 3 3 3 3 3 3 3 3 ... 3 3 3 3 8 3 3 3 8 3 3\n",
       "    vegTypeIndex    (hru) int32 1 1 8 10 8 8 10 8 1 ... 8 16 10 10 9 10 8 10 1\n",
       "    mHeight         (hru) float64 3.0 3.0 3.0 3.0 3.0 ... 3.0 3.0 3.0 3.0 3.0</pre><div class='xr-wrap' style='display:none'><div class='xr-header'><div class='xr-obj-type'>xarray.Dataset</div></div><ul class='xr-sections'><li class='xr-section-item'><input id='section-5aa0fd56-0758-4b6a-b883-2adf4037c7ca' class='xr-section-summary-in' type='checkbox' disabled ><label for='section-5aa0fd56-0758-4b6a-b883-2adf4037c7ca' class='xr-section-summary'  title='Expand/collapse section'>Dimensions:</label><div class='xr-section-inline-details'><ul class='xr-dim-list'><li><span>hru</span>: 118</li><li><span>gru</span>: 118</li></ul></div><div class='xr-section-details'></div></li><li class='xr-section-item'><input id='section-31e10005-f972-47b9-bb81-deac8812db0b' class='xr-section-summary-in' type='checkbox' disabled ><label for='section-31e10005-f972-47b9-bb81-deac8812db0b' class='xr-section-summary'  title='Expand/collapse section'>Coordinates: <span>(0)</span></label><div class='xr-section-inline-details'></div><div class='xr-section-details'><ul class='xr-var-list'></ul></div></li><li class='xr-section-item'><input id='section-47c8ed03-d3b8-4ec8-a1e6-8865328387de' class='xr-section-summary-in' type='checkbox'  checked><label for='section-47c8ed03-d3b8-4ec8-a1e6-8865328387de' class='xr-section-summary' >Data variables: <span>(14)</span></label><div class='xr-section-inline-details'></div><div class='xr-section-details'><ul class='xr-var-list'><li class='xr-var-item'><div class='xr-var-name'><span>hruId</span></div><div class='xr-var-dims'>(hru)</div><div class='xr-var-dtype'>int32</div><div class='xr-var-preview xr-preview'>48 97 118 1 49 ... 94 46 95 47 96</div><input id='attrs-0d797468-09a4-4f56-b842-b5223fdadaa9' class='xr-var-attrs-in' type='checkbox' disabled><label for='attrs-0d797468-09a4-4f56-b842-b5223fdadaa9' title='Show/Hide attributes'><svg class='icon xr-icon-file-text2'><use xlink:href='#icon-file-text2'></use></svg></label><input id='data-dad155c0-9d7d-490b-9cc9-9737758832e4' class='xr-var-data-in' type='checkbox'><label for='data-dad155c0-9d7d-490b-9cc9-9737758832e4' title='Show/Hide data repr'><svg class='icon xr-icon-database'><use xlink:href='#icon-database'></use></svg></label><div class='xr-var-attrs'><dl class='xr-attrs'></dl></div><div class='xr-var-data'><pre>array([ 48,  97, 118,   1,  49, 100,   2,  50, 101,   3,  51, 102,   4,\n",
       "        52, 103,   5,  53, 104,   6,  54, 105,   7,  55, 106,   8,  56,\n",
       "       107,   9,  57,  10,  58,  99,  59,  11,  60,  12,  61,  13,  62,\n",
       "       108,  14,  63, 109,  15,  64, 110,  16,  65,  98,  17,  66,  18,\n",
       "        67, 111,  19,  68,  20,  69, 112,  21,  70,  22,  71,  23,  72,\n",
       "        24,  73,  25,  74, 113,  26,  75, 114,  27,  76,  28,  77,  29,\n",
       "        78,  30,  79,  31,  80, 115,  32,  81,  33,  82, 116,  34,  83,\n",
       "        35,  84, 117,  36,  85,  37,  86,  38,  87,  39,  88,  40,  89,\n",
       "        41,  90,  42,  91,  43,  92,  44,  93,  45,  94,  46,  95,  47,\n",
       "        96], dtype=int32)</pre></div></li><li class='xr-var-item'><div class='xr-var-name'><span>gruId</span></div><div class='xr-var-dims'>(gru)</div><div class='xr-var-dtype'>int32</div><div class='xr-var-preview xr-preview'>48 97 118 1 49 ... 94 46 95 47 96</div><input id='attrs-cc968d44-30e8-4339-bfa7-68cdbe123280' class='xr-var-attrs-in' type='checkbox' disabled><label for='attrs-cc968d44-30e8-4339-bfa7-68cdbe123280' title='Show/Hide attributes'><svg class='icon xr-icon-file-text2'><use xlink:href='#icon-file-text2'></use></svg></label><input id='data-202d9ad0-0e08-417e-958c-0e29d740b5ca' class='xr-var-data-in' type='checkbox'><label for='data-202d9ad0-0e08-417e-958c-0e29d740b5ca' title='Show/Hide data repr'><svg class='icon xr-icon-database'><use xlink:href='#icon-database'></use></svg></label><div class='xr-var-attrs'><dl class='xr-attrs'></dl></div><div class='xr-var-data'><pre>array([ 48,  97, 118,   1,  49, 100,   2,  50, 101,   3,  51, 102,   4,\n",
       "        52, 103,   5,  53, 104,   6,  54, 105,   7,  55, 106,   8,  56,\n",
       "       107,   9,  57,  10,  58,  99,  59,  11,  60,  12,  61,  13,  62,\n",
       "       108,  14,  63, 109,  15,  64, 110,  16,  65,  98,  17,  66,  18,\n",
       "        67, 111,  19,  68,  20,  69, 112,  21,  70,  22,  71,  23,  72,\n",
       "        24,  73,  25,  74, 113,  26,  75, 114,  27,  76,  28,  77,  29,\n",
       "        78,  30,  79,  31,  80, 115,  32,  81,  33,  82, 116,  34,  83,\n",
       "        35,  84, 117,  36,  85,  37,  86,  38,  87,  39,  88,  40,  89,\n",
       "        41,  90,  42,  91,  43,  92,  44,  93,  45,  94,  46,  95,  47,\n",
       "        96], dtype=int32)</pre></div></li><li class='xr-var-item'><div class='xr-var-name'><span>hru2gruId</span></div><div class='xr-var-dims'>(hru)</div><div class='xr-var-dtype'>int32</div><div class='xr-var-preview xr-preview'>48 97 118 1 49 ... 94 46 95 47 96</div><input id='attrs-a172cdc2-56ef-4ec9-b563-f901e8e0d4e9' class='xr-var-attrs-in' type='checkbox' disabled><label for='attrs-a172cdc2-56ef-4ec9-b563-f901e8e0d4e9' title='Show/Hide attributes'><svg class='icon xr-icon-file-text2'><use xlink:href='#icon-file-text2'></use></svg></label><input id='data-a530e49f-f00e-4819-809d-ec440ef6ddc7' class='xr-var-data-in' type='checkbox'><label for='data-a530e49f-f00e-4819-809d-ec440ef6ddc7' title='Show/Hide data repr'><svg class='icon xr-icon-database'><use xlink:href='#icon-database'></use></svg></label><div class='xr-var-attrs'><dl class='xr-attrs'></dl></div><div class='xr-var-data'><pre>array([ 48,  97, 118,   1,  49, 100,   2,  50, 101,   3,  51, 102,   4,\n",
       "        52, 103,   5,  53, 104,   6,  54, 105,   7,  55, 106,   8,  56,\n",
       "       107,   9,  57,  10,  58,  99,  59,  11,  60,  12,  61,  13,  62,\n",
       "       108,  14,  63, 109,  15,  64, 110,  16,  65,  98,  17,  66,  18,\n",
       "        67, 111,  19,  68,  20,  69, 112,  21,  70,  22,  71,  23,  72,\n",
       "        24,  73,  25,  74, 113,  26,  75, 114,  27,  76,  28,  77,  29,\n",
       "        78,  30,  79,  31,  80, 115,  32,  81,  33,  82, 116,  34,  83,\n",
       "        35,  84, 117,  36,  85,  37,  86,  38,  87,  39,  88,  40,  89,\n",
       "        41,  90,  42,  91,  43,  92,  44,  93,  45,  94,  46,  95,  47,\n",
       "        96], dtype=int32)</pre></div></li><li class='xr-var-item'><div class='xr-var-name'><span>downHRUindex</span></div><div class='xr-var-dims'>(hru)</div><div class='xr-var-dtype'>int32</div><div class='xr-var-preview xr-preview'>0 0 0 0 0 0 0 0 ... 0 0 0 0 0 0 0 0</div><input id='attrs-e5bd6d15-9d20-4788-8da0-0bf3e5ad305e' class='xr-var-attrs-in' type='checkbox' disabled><label for='attrs-e5bd6d15-9d20-4788-8da0-0bf3e5ad305e' title='Show/Hide attributes'><svg class='icon xr-icon-file-text2'><use xlink:href='#icon-file-text2'></use></svg></label><input id='data-043cbb83-4c50-4a4d-a8cd-1d496f633d8e' class='xr-var-data-in' type='checkbox'><label for='data-043cbb83-4c50-4a4d-a8cd-1d496f633d8e' title='Show/Hide data repr'><svg class='icon xr-icon-database'><use xlink:href='#icon-database'></use></svg></label><div class='xr-var-attrs'><dl class='xr-attrs'></dl></div><div class='xr-var-data'><pre>array([0, 0, 0, 0, 0, 0, 0, 0, 0, 0, 0, 0, 0, 0, 0, 0, 0, 0, 0, 0, 0, 0,\n",
       "       0, 0, 0, 0, 0, 0, 0, 0, 0, 0, 0, 0, 0, 0, 0, 0, 0, 0, 0, 0, 0, 0,\n",
       "       0, 0, 0, 0, 0, 0, 0, 0, 0, 0, 0, 0, 0, 0, 0, 0, 0, 0, 0, 0, 0, 0,\n",
       "       0, 0, 0, 0, 0, 0, 0, 0, 0, 0, 0, 0, 0, 0, 0, 0, 0, 0, 0, 0, 0, 0,\n",
       "       0, 0, 0, 0, 0, 0, 0, 0, 0, 0, 0, 0, 0, 0, 0, 0, 0, 0, 0, 0, 0, 0,\n",
       "       0, 0, 0, 0, 0, 0, 0, 0], dtype=int32)</pre></div></li><li class='xr-var-item'><div class='xr-var-name'><span>longitude</span></div><div class='xr-var-dims'>(hru)</div><div class='xr-var-dtype'>float64</div><div class='xr-var-preview xr-preview'>-115.6 -115.6 ... -116.5 -116.4</div><input id='attrs-c98b8c60-66c1-4b13-aef5-8675732c9299' class='xr-var-attrs-in' type='checkbox' disabled><label for='attrs-c98b8c60-66c1-4b13-aef5-8675732c9299' title='Show/Hide attributes'><svg class='icon xr-icon-file-text2'><use xlink:href='#icon-file-text2'></use></svg></label><input id='data-ae4f4548-f2d0-4316-b6b6-7cd337b69198' class='xr-var-data-in' type='checkbox'><label for='data-ae4f4548-f2d0-4316-b6b6-7cd337b69198' title='Show/Hide data repr'><svg class='icon xr-icon-database'><use xlink:href='#icon-database'></use></svg></label><div class='xr-var-attrs'><dl class='xr-attrs'></dl></div><div class='xr-var-data'><pre>array([-115.58027482, -115.57511706, -115.5722091 , -115.62201944,\n",
       "       -115.61140476, -115.61166173, -115.6552145 , -115.64868259,\n",
       "       -115.64380413, -115.76114491, -115.75550675, -115.74439711,\n",
       "       -115.87199443, -115.83561629, -115.83037982, -115.90370799,\n",
       "       -115.89182809, -115.8853053 , -116.03204871, -116.01790987,\n",
       "       -115.99222729, -116.12205486, -116.09386661, -116.08453522,\n",
       "       -116.1266629 , -116.12377016, -116.1080303 , -116.14639287,\n",
       "       -116.15568658, -116.20345528, -116.17630528, -116.18025641,\n",
       "       -116.20075339, -116.28506776, -116.28021079, -116.30136644,\n",
       "       -116.32416054, -115.66120875, -115.67746109, -115.67277571,\n",
       "       -115.58177022, -115.58813267, -115.55980217, -115.6761621 ,\n",
       "       -115.67834286, -115.68725   , -116.17624634, -116.18261074,\n",
       "       -116.15334192, -115.64492724, -115.6602581 , -115.84323637,\n",
       "       -115.84967021, -115.818181  , -116.14612703, -116.13679941,\n",
       "       -116.05231611, -116.0554973 , -116.0675    , -115.91412736,\n",
       "       -115.90111425, -115.59693261, -115.60423867, -115.6684777 ,\n",
       "       -115.66216225, -115.72904682, -115.70074411, -115.78761152,\n",
       "       -115.7457894 , -115.69399123, -115.60620842, -115.59258192,\n",
       "       -115.62434053, -115.89998393, -115.90900955, -115.97276682,\n",
       "       -115.95593212, -115.85181688, -115.86802506, -115.61374597,\n",
       "       -115.61701843, -116.03227047, -116.00531101, -115.94162954,\n",
       "       -115.70958116, -115.67808837, -116.19211128, -116.1610994 ,\n",
       "       -116.10333333, -116.2372688 , -116.19790394, -115.88020027,\n",
       "       -115.83938882, -115.84571735, -116.26725262, -116.22338129,\n",
       "       -116.10668134, -116.135315  , -115.99660209, -116.02474397,\n",
       "       -116.01170136, -116.01990473, -116.34341105, -116.28308763,\n",
       "       -116.09255586, -116.11714869, -116.42405757, -116.37647625,\n",
       "       -116.22870062, -116.18897648, -116.08633017, -116.11673709,\n",
       "       -116.1784364 , -116.14834818, -116.3030208 , -116.32313344,\n",
       "       -116.45110981, -116.41423859])</pre></div></li><li class='xr-var-item'><div class='xr-var-name'><span>latitude</span></div><div class='xr-var-dims'>(hru)</div><div class='xr-var-dtype'>float64</div><div class='xr-var-preview xr-preview'>51.15 51.16 51.17 ... 51.67 51.66</div><input id='attrs-9dba6f2b-f530-440e-b869-c8e403a29867' class='xr-var-attrs-in' type='checkbox' disabled><label for='attrs-9dba6f2b-f530-440e-b869-c8e403a29867' title='Show/Hide attributes'><svg class='icon xr-icon-file-text2'><use xlink:href='#icon-file-text2'></use></svg></label><input id='data-3f5dfecd-caa0-425c-8e14-b5b997a81a44' class='xr-var-data-in' type='checkbox'><label for='data-3f5dfecd-caa0-425c-8e14-b5b997a81a44' title='Show/Hide data repr'><svg class='icon xr-icon-database'><use xlink:href='#icon-database'></use></svg></label><div class='xr-var-attrs'><dl class='xr-attrs'></dl></div><div class='xr-var-data'><pre>array([51.15181737, 51.16043199, 51.17234798, 51.19271111, 51.17747619,\n",
       "       51.17273829, 51.17669956, 51.17417073, 51.16400939, 51.19354287,\n",
       "       51.19777641, 51.19320516, 51.21810625, 51.23544106, 51.23331434,\n",
       "       51.27745208, 51.2622636 , 51.25697679, 51.31927973, 51.30598289,\n",
       "       51.29653837, 51.33059168, 51.35947819, 51.35559992, 51.39857369,\n",
       "       51.39008647, 51.37492424, 51.45402031, 51.43033739, 51.39695122,\n",
       "       51.41006545, 51.42278846, 51.44211625, 51.54055372, 51.51443289,\n",
       "       51.61661651, 51.60537132, 51.13455858, 51.14314694, 51.15298482,\n",
       "       51.21774619, 51.20818698, 51.19389376, 51.11130517, 51.11441338,\n",
       "       51.13      , 51.52122663, 51.50301189, 51.56544673, 51.10178199,\n",
       "       51.09190666, 51.18721523, 51.20451671, 51.21944444, 51.60433528,\n",
       "       51.59277037, 51.4104927 , 51.39432442, 51.34737654, 51.19335774,\n",
       "       51.18397335, 51.00905669, 51.03663714, 51.03142427, 51.05684004,\n",
       "       51.05542078, 51.07647831, 51.10256964, 51.11888194, 51.13122807,\n",
       "       51.11092164, 51.12825915, 51.15867805, 51.12061239, 51.14749652,\n",
       "       51.15173608, 51.15927979, 51.14509379, 51.17642601, 51.25829155,\n",
       "       51.24770128, 51.23739587, 51.24709478, 51.25903053, 51.2816606 ,\n",
       "       51.24945085, 51.31930641, 51.34019296, 51.37208333, 51.36002521,\n",
       "       51.38142456, 51.34885871, 51.29812804, 51.24673969, 51.39110258,\n",
       "       51.40951339, 51.46187852, 51.42264523, 51.39431682, 51.42742661,\n",
       "       51.46259886, 51.45051248, 51.49625304, 51.46130851, 51.53481015,\n",
       "       51.56253063, 51.59396844, 51.58664326, 51.59920742, 51.58505734,\n",
       "       51.62616907, 51.62108216, 51.66355561, 51.63921733, 51.67229136,\n",
       "       51.64787682, 51.66753561, 51.65776438])</pre></div></li><li class='xr-var-item'><div class='xr-var-name'><span>elevation</span></div><div class='xr-var-dims'>(hru)</div><div class='xr-var-dtype'>float32</div><div class='xr-var-preview xr-preview'>2.113e+03 1.694e+03 ... 1.931e+03</div><input id='attrs-92d21e3c-37b0-45b7-bc27-f987abf8f043' class='xr-var-attrs-in' type='checkbox' disabled><label for='attrs-92d21e3c-37b0-45b7-bc27-f987abf8f043' title='Show/Hide attributes'><svg class='icon xr-icon-file-text2'><use xlink:href='#icon-file-text2'></use></svg></label><input id='data-b5dc6eef-4c0b-4eb6-9104-2900fde98cf7' class='xr-var-data-in' type='checkbox'><label for='data-b5dc6eef-4c0b-4eb6-9104-2900fde98cf7' title='Show/Hide data repr'><svg class='icon xr-icon-database'><use xlink:href='#icon-database'></use></svg></label><div class='xr-var-attrs'><dl class='xr-attrs'></dl></div><div class='xr-var-data'><pre>array([2113.2756, 1694.168 , 1409.5972, 2181.125 , 1704.8816, 1402.2491,\n",
       "       2232.405 , 1775.0192, 1419.5046, 2301.8801, 1744.985 , 1422.0795,\n",
       "       2240.087 , 1665.4639, 1439.8105, 2288.0688, 1738.7192, 1443.0693,\n",
       "       2331.4548, 1684.8136, 1464.1874, 2253.4233, 1678.4244, 1494.288 ,\n",
       "       2263.2227, 1679.4949, 1499.0364, 2256.6726, 1709.673 , 2106.7463,\n",
       "       1651.6449, 1542.3191, 1618.19  , 2306.7976, 1763.1301, 2429.1812,\n",
       "       1845.3285, 2193.0413, 1659.4221, 1435.8497, 2251.4697, 1727.5452,\n",
       "       1415.8901, 2262.1   , 1706.2268, 1487.825 , 2311.7979, 1796.2654,\n",
       "       1809.3267, 2293.1301, 1745.962 , 2341.9224, 1718.4629, 1470.2656,\n",
       "       2380.2644, 1891.5114, 2301.9282, 1774.5585, 1492.0631, 2257.3264,\n",
       "       1820.6776, 2352.4395, 1851.7455, 2333.8318, 1862.8641, 2304.6157,\n",
       "       1829.3688, 2282.8796, 1793.0929, 1484.7314, 2265.0247, 1753.8234,\n",
       "       1442.9008, 2234.6343, 1933.9193, 2362.7217, 1900.0879, 2327.2087,\n",
       "       1874.3634, 2329.1135, 1861.6986, 2305.7712, 1769.9298, 1467.297 ,\n",
       "       2319.7144, 1845.7323, 2415.5393, 1865.9531,       nan, 2413.0542,\n",
       "       1874.7577, 2371.3274, 1828.3331, 1440.9763, 2492.9272, 1797.1934,\n",
       "       2357.034 , 1715.6011, 2516.0854, 1879.1257, 2399.791 , 1909.6006,\n",
       "       2382.657 , 1758.5801, 2364.0098, 1907.6234, 2485.7856, 1815.5281,\n",
       "       2413.5388, 1923.8615, 2552.3196, 1929.2599, 2430.2112, 1946.3549,\n",
       "       2407.4172, 1934.5369, 2398.26  , 1931.3799], dtype=float32)</pre></div></li><li class='xr-var-item'><div class='xr-var-name'><span>HRUarea</span></div><div class='xr-var-dims'>(hru)</div><div class='xr-var-dtype'>float64</div><div class='xr-var-preview xr-preview'>5.081e+05 1.616e+06 ... 2.007e+07</div><input id='attrs-0fa4e660-5bfb-4296-b45b-1e2b5baa6dcd' class='xr-var-attrs-in' type='checkbox' disabled><label for='attrs-0fa4e660-5bfb-4296-b45b-1e2b5baa6dcd' title='Show/Hide attributes'><svg class='icon xr-icon-file-text2'><use xlink:href='#icon-file-text2'></use></svg></label><input id='data-7743cd8f-39ba-4d1c-b2dd-c118638fc9c5' class='xr-var-data-in' type='checkbox'><label for='data-7743cd8f-39ba-4d1c-b2dd-c118638fc9c5' title='Show/Hide data repr'><svg class='icon xr-icon-database'><use xlink:href='#icon-database'></use></svg></label><div class='xr-var-attrs'><dl class='xr-attrs'></dl></div><div class='xr-var-data'><pre>array([5.08126212e+05, 1.61597524e+06, 4.11725219e+06, 1.62025705e+06,\n",
       "       3.78183640e+06, 6.38655032e+06, 6.56969877e+06, 7.74791118e+06,\n",
       "       4.40981477e+06, 4.86500372e+07, 4.05398161e+07, 3.09357777e+07,\n",
       "       2.09978749e+06, 4.51636818e+06, 5.91957295e+06, 2.70036285e+07,\n",
       "       2.34963705e+07, 1.20866103e+07, 3.68790666e+07, 5.71582071e+07,\n",
       "       1.92164837e+07, 8.11496974e+06, 1.83831796e+07, 2.19045117e+06,\n",
       "       5.94690248e+06, 2.30121786e+07, 5.91766692e+04, 4.49510354e+06,\n",
       "       9.48916064e+06, 2.20462554e+05, 8.14404883e+06, 1.39727368e+05,\n",
       "       9.51897144e+06, 2.92035338e+07, 5.63592104e+07, 1.86715335e+07,\n",
       "       1.45597660e+07, 1.09233481e+06, 4.97948121e+06, 2.90813892e+06,\n",
       "       4.60445392e+06, 1.27579833e+07, 9.53227034e+06, 5.92426966e+06,\n",
       "       8.51523282e+06, 1.08162525e+05, 4.33142546e+07, 3.73013710e+07,\n",
       "       5.19678673e+05, 3.28471674e+06, 4.73597127e+06, 1.03060508e+07,\n",
       "       8.88215721e+06, 5.01991313e+05, 1.69046984e+07, 8.23495221e+06,\n",
       "       1.53472231e+07, 1.65894039e+07, 1.45338296e+05, 1.08771746e+07,\n",
       "       6.21755257e+06, 5.46062280e+07, 1.98820742e+07, 2.61221781e+07,\n",
       "       5.51951348e+06, 2.90392623e+07, 7.28226701e+06, 4.98597508e+07,\n",
       "       1.60064567e+07, 1.02751695e+05, 1.48567833e+07, 1.91995635e+07,\n",
       "       1.50253518e+06, 3.02970047e+07, 5.18985460e+06, 3.90663210e+07,\n",
       "       1.16255805e+07, 2.45936089e+07, 2.26375027e+06, 2.45284903e+07,\n",
       "       7.16925994e+06, 4.20592658e+07, 3.43578725e+07, 1.08941874e+06,\n",
       "       7.04111461e+07, 2.29202671e+07, 4.36817709e+07, 1.42991989e+07,\n",
       "       3.19662593e-06, 3.05880438e+07, 6.86890793e+06, 9.62216137e+07,\n",
       "       2.58330515e+07, 1.04655021e+06, 2.17209970e+07, 8.96662430e+06,\n",
       "       2.34865400e+07, 6.93802259e+06, 2.51879362e+07, 2.74590437e+06,\n",
       "       6.10135750e+07, 4.08725699e+06, 4.03866830e+07, 3.03223879e+07,\n",
       "       4.15108665e+07, 6.55801092e+06, 5.60690276e+07, 1.54439354e+07,\n",
       "       5.06876386e+07, 6.14779829e+06, 2.36916963e+07, 1.89961284e+06,\n",
       "       6.06885138e+07, 5.10285569e+06, 4.76296830e+07, 3.29965087e+06,\n",
       "       8.69408139e+07, 2.00716618e+07])</pre></div></li><li class='xr-var-item'><div class='xr-var-name'><span>tan_slope</span></div><div class='xr-var-dims'>(hru)</div><div class='xr-var-dtype'>float64</div><div class='xr-var-preview xr-preview'>0.1 0.1 0.1 0.1 ... 0.1 0.1 0.1 0.1</div><input id='attrs-0914968f-08ca-4da7-85bd-40c44935e12f' class='xr-var-attrs-in' type='checkbox' disabled><label for='attrs-0914968f-08ca-4da7-85bd-40c44935e12f' title='Show/Hide attributes'><svg class='icon xr-icon-file-text2'><use xlink:href='#icon-file-text2'></use></svg></label><input id='data-506e6031-134c-4f1a-86ed-9c1467c5bd51' class='xr-var-data-in' type='checkbox'><label for='data-506e6031-134c-4f1a-86ed-9c1467c5bd51' title='Show/Hide data repr'><svg class='icon xr-icon-database'><use xlink:href='#icon-database'></use></svg></label><div class='xr-var-attrs'><dl class='xr-attrs'></dl></div><div class='xr-var-data'><pre>array([0.1, 0.1, 0.1, 0.1, 0.1, 0.1, 0.1, 0.1, 0.1, 0.1, 0.1, 0.1, 0.1,\n",
       "       0.1, 0.1, 0.1, 0.1, 0.1, 0.1, 0.1, 0.1, 0.1, 0.1, 0.1, 0.1, 0.1,\n",
       "       0.1, 0.1, 0.1, 0.1, 0.1, 0.1, 0.1, 0.1, 0.1, 0.1, 0.1, 0.1, 0.1,\n",
       "       0.1, 0.1, 0.1, 0.1, 0.1, 0.1, 0.1, 0.1, 0.1, 0.1, 0.1, 0.1, 0.1,\n",
       "       0.1, 0.1, 0.1, 0.1, 0.1, 0.1, 0.1, 0.1, 0.1, 0.1, 0.1, 0.1, 0.1,\n",
       "       0.1, 0.1, 0.1, 0.1, 0.1, 0.1, 0.1, 0.1, 0.1, 0.1, 0.1, 0.1, 0.1,\n",
       "       0.1, 0.1, 0.1, 0.1, 0.1, 0.1, 0.1, 0.1, 0.1, 0.1, 0.1, 0.1, 0.1,\n",
       "       0.1, 0.1, 0.1, 0.1, 0.1, 0.1, 0.1, 0.1, 0.1, 0.1, 0.1, 0.1, 0.1,\n",
       "       0.1, 0.1, 0.1, 0.1, 0.1, 0.1, 0.1, 0.1, 0.1, 0.1, 0.1, 0.1, 0.1,\n",
       "       0.1])</pre></div></li><li class='xr-var-item'><div class='xr-var-name'><span>contourLength</span></div><div class='xr-var-dims'>(hru)</div><div class='xr-var-dtype'>float64</div><div class='xr-var-preview xr-preview'>30.0 30.0 30.0 ... 30.0 30.0 30.0</div><input id='attrs-64a6f4da-3451-41f4-8534-f8fdbd301100' class='xr-var-attrs-in' type='checkbox' disabled><label for='attrs-64a6f4da-3451-41f4-8534-f8fdbd301100' title='Show/Hide attributes'><svg class='icon xr-icon-file-text2'><use xlink:href='#icon-file-text2'></use></svg></label><input id='data-c2f2a5bb-511f-4ffe-9a4b-ff1abe1d53e2' class='xr-var-data-in' type='checkbox'><label for='data-c2f2a5bb-511f-4ffe-9a4b-ff1abe1d53e2' title='Show/Hide data repr'><svg class='icon xr-icon-database'><use xlink:href='#icon-database'></use></svg></label><div class='xr-var-attrs'><dl class='xr-attrs'></dl></div><div class='xr-var-data'><pre>array([30., 30., 30., 30., 30., 30., 30., 30., 30., 30., 30., 30., 30.,\n",
       "       30., 30., 30., 30., 30., 30., 30., 30., 30., 30., 30., 30., 30.,\n",
       "       30., 30., 30., 30., 30., 30., 30., 30., 30., 30., 30., 30., 30.,\n",
       "       30., 30., 30., 30., 30., 30., 30., 30., 30., 30., 30., 30., 30.,\n",
       "       30., 30., 30., 30., 30., 30., 30., 30., 30., 30., 30., 30., 30.,\n",
       "       30., 30., 30., 30., 30., 30., 30., 30., 30., 30., 30., 30., 30.,\n",
       "       30., 30., 30., 30., 30., 30., 30., 30., 30., 30., 30., 30., 30.,\n",
       "       30., 30., 30., 30., 30., 30., 30., 30., 30., 30., 30., 30., 30.,\n",
       "       30., 30., 30., 30., 30., 30., 30., 30., 30., 30., 30., 30., 30.,\n",
       "       30.])</pre></div></li><li class='xr-var-item'><div class='xr-var-name'><span>slopeTypeIndex</span></div><div class='xr-var-dims'>(hru)</div><div class='xr-var-dtype'>int32</div><div class='xr-var-preview xr-preview'>1 1 1 1 1 1 1 1 ... 1 1 1 1 1 1 1 1</div><input id='attrs-b714909f-e160-4f40-ae5a-788266821a4f' class='xr-var-attrs-in' type='checkbox' disabled><label for='attrs-b714909f-e160-4f40-ae5a-788266821a4f' title='Show/Hide attributes'><svg class='icon xr-icon-file-text2'><use xlink:href='#icon-file-text2'></use></svg></label><input id='data-75e8a113-d6cf-4d80-8d93-2a95f6b9aca2' class='xr-var-data-in' type='checkbox'><label for='data-75e8a113-d6cf-4d80-8d93-2a95f6b9aca2' title='Show/Hide data repr'><svg class='icon xr-icon-database'><use xlink:href='#icon-database'></use></svg></label><div class='xr-var-attrs'><dl class='xr-attrs'></dl></div><div class='xr-var-data'><pre>array([1, 1, 1, 1, 1, 1, 1, 1, 1, 1, 1, 1, 1, 1, 1, 1, 1, 1, 1, 1, 1, 1,\n",
       "       1, 1, 1, 1, 1, 1, 1, 1, 1, 1, 1, 1, 1, 1, 1, 1, 1, 1, 1, 1, 1, 1,\n",
       "       1, 1, 1, 1, 1, 1, 1, 1, 1, 1, 1, 1, 1, 1, 1, 1, 1, 1, 1, 1, 1, 1,\n",
       "       1, 1, 1, 1, 1, 1, 1, 1, 1, 1, 1, 1, 1, 1, 1, 1, 1, 1, 1, 1, 1, 1,\n",
       "       1, 1, 1, 1, 1, 1, 1, 1, 1, 1, 1, 1, 1, 1, 1, 1, 1, 1, 1, 1, 1, 1,\n",
       "       1, 1, 1, 1, 1, 1, 1, 1], dtype=int32)</pre></div></li><li class='xr-var-item'><div class='xr-var-name'><span>soilTypeIndex</span></div><div class='xr-var-dims'>(hru)</div><div class='xr-var-dtype'>int32</div><div class='xr-var-preview xr-preview'>3 3 3 3 3 3 3 3 ... 3 8 3 3 3 8 3 3</div><input id='attrs-35264868-0b6c-4222-b27d-0cb6c5c964db' class='xr-var-attrs-in' type='checkbox' disabled><label for='attrs-35264868-0b6c-4222-b27d-0cb6c5c964db' title='Show/Hide attributes'><svg class='icon xr-icon-file-text2'><use xlink:href='#icon-file-text2'></use></svg></label><input id='data-d5df311e-bdd0-4e16-a284-743e9e7f732e' class='xr-var-data-in' type='checkbox'><label for='data-d5df311e-bdd0-4e16-a284-743e9e7f732e' title='Show/Hide data repr'><svg class='icon xr-icon-database'><use xlink:href='#icon-database'></use></svg></label><div class='xr-var-attrs'><dl class='xr-attrs'></dl></div><div class='xr-var-data'><pre>array([3, 3, 3, 3, 3, 3, 3, 3, 3, 3, 3, 3, 3, 3, 3, 3, 3, 3, 3, 3, 3, 3,\n",
       "       3, 3, 3, 3, 3, 3, 3, 3, 3, 3, 3, 3, 3, 3, 3, 3, 3, 3, 3, 3, 3, 3,\n",
       "       3, 3, 3, 3, 3, 3, 3, 3, 3, 3, 3, 3, 3, 3, 3, 3, 3, 3, 3, 3, 3, 3,\n",
       "       3, 3, 3, 3, 3, 3, 3, 3, 3, 3, 3, 3, 3, 3, 3, 3, 3, 3, 3, 3, 3, 3,\n",
       "       3, 3, 3, 3, 3, 3, 3, 3, 3, 3, 3, 3, 3, 3, 3, 3, 3, 3, 3, 3, 3, 3,\n",
       "       3, 8, 3, 3, 3, 8, 3, 3], dtype=int32)</pre></div></li><li class='xr-var-item'><div class='xr-var-name'><span>vegTypeIndex</span></div><div class='xr-var-dims'>(hru)</div><div class='xr-var-dtype'>int32</div><div class='xr-var-preview xr-preview'>1 1 8 10 8 8 10 ... 10 9 10 8 10 1</div><input id='attrs-57645d8a-af59-4bcb-a337-6505cc7b271c' class='xr-var-attrs-in' type='checkbox' disabled><label for='attrs-57645d8a-af59-4bcb-a337-6505cc7b271c' title='Show/Hide attributes'><svg class='icon xr-icon-file-text2'><use xlink:href='#icon-file-text2'></use></svg></label><input id='data-e3d6b3f8-3782-47d1-9872-295f5c6d6dc5' class='xr-var-data-in' type='checkbox'><label for='data-e3d6b3f8-3782-47d1-9872-295f5c6d6dc5' title='Show/Hide data repr'><svg class='icon xr-icon-database'><use xlink:href='#icon-database'></use></svg></label><div class='xr-var-attrs'><dl class='xr-attrs'></dl></div><div class='xr-var-data'><pre>array([ 1,  1,  8, 10,  8,  8, 10,  8,  1, 10,  1,  8, 10,  1,  1, 10,  1,\n",
       "        1, 10,  1,  1,  1,  1,  8, 10,  1,  1, 10,  1,  1,  1,  8,  1, 10,\n",
       "        1, 16,  8,  8,  1,  1, 10,  8,  8, 10,  1,  1, 10,  1,  8, 10,  8,\n",
       "       10,  1,  1, 10,  8, 10,  1,  8, 10,  8, 10,  8, 10,  8, 10,  8, 10,\n",
       "        8,  1, 10,  1,  1, 10,  1, 16,  1, 10,  8, 10,  1, 10,  1,  1, 10,\n",
       "        1, 16,  1,  1, 16,  1, 10,  1,  1, 16,  1, 10,  1, 10,  8, 10,  8,\n",
       "       16,  1, 10,  1, 16, 17, 10,  8, 16, 10, 10,  9, 10,  8, 10,  1],\n",
       "      dtype=int32)</pre></div></li><li class='xr-var-item'><div class='xr-var-name'><span>mHeight</span></div><div class='xr-var-dims'>(hru)</div><div class='xr-var-dtype'>float64</div><div class='xr-var-preview xr-preview'>3.0 3.0 3.0 3.0 ... 3.0 3.0 3.0 3.0</div><input id='attrs-6566740f-31bd-4231-a981-dc5b9ba9e140' class='xr-var-attrs-in' type='checkbox' disabled><label for='attrs-6566740f-31bd-4231-a981-dc5b9ba9e140' title='Show/Hide attributes'><svg class='icon xr-icon-file-text2'><use xlink:href='#icon-file-text2'></use></svg></label><input id='data-f99fd958-c560-44cb-9338-56c59b003dd0' class='xr-var-data-in' type='checkbox'><label for='data-f99fd958-c560-44cb-9338-56c59b003dd0' title='Show/Hide data repr'><svg class='icon xr-icon-database'><use xlink:href='#icon-database'></use></svg></label><div class='xr-var-attrs'><dl class='xr-attrs'></dl></div><div class='xr-var-data'><pre>array([3., 3., 3., 3., 3., 3., 3., 3., 3., 3., 3., 3., 3., 3., 3., 3., 3.,\n",
       "       3., 3., 3., 3., 3., 3., 3., 3., 3., 3., 3., 3., 3., 3., 3., 3., 3.,\n",
       "       3., 3., 3., 3., 3., 3., 3., 3., 3., 3., 3., 3., 3., 3., 3., 3., 3.,\n",
       "       3., 3., 3., 3., 3., 3., 3., 3., 3., 3., 3., 3., 3., 3., 3., 3., 3.,\n",
       "       3., 3., 3., 3., 3., 3., 3., 3., 3., 3., 3., 3., 3., 3., 3., 3., 3.,\n",
       "       3., 3., 3., 3., 3., 3., 3., 3., 3., 3., 3., 3., 3., 3., 3., 3., 3.,\n",
       "       3., 3., 3., 3., 3., 3., 3., 3., 3., 3., 3., 3., 3., 3., 3., 3.])</pre></div></li></ul></div></li><li class='xr-section-item'><input id='section-63b2587e-c2c6-4ed6-9707-640a53e675ae' class='xr-section-summary-in' type='checkbox' disabled ><label for='section-63b2587e-c2c6-4ed6-9707-640a53e675ae' class='xr-section-summary'  title='Expand/collapse section'>Attributes: <span>(0)</span></label><div class='xr-section-inline-details'></div><div class='xr-section-details'><dl class='xr-attrs'></dl></div></li></ul></div></div>"
      ],
      "text/plain": [
       "<xarray.Dataset>\n",
       "Dimensions:         (hru: 118, gru: 118)\n",
       "Dimensions without coordinates: hru, gru\n",
       "Data variables: (12/14)\n",
       "    hruId           (hru) int32 48 97 118 1 49 100 2 50 ... 93 45 94 46 95 47 96\n",
       "    gruId           (gru) int32 48 97 118 1 49 100 2 50 ... 93 45 94 46 95 47 96\n",
       "    hru2gruId       (hru) int32 48 97 118 1 49 100 2 50 ... 93 45 94 46 95 47 96\n",
       "    downHRUindex    (hru) int32 0 0 0 0 0 0 0 0 0 0 0 ... 0 0 0 0 0 0 0 0 0 0 0\n",
       "    longitude       (hru) float64 -115.6 -115.6 -115.6 ... -116.3 -116.5 -116.4\n",
       "    latitude        (hru) float64 51.15 51.16 51.17 51.19 ... 51.65 51.67 51.66\n",
       "    ...              ...\n",
       "    tan_slope       (hru) float64 0.1 0.1 0.1 0.1 0.1 ... 0.1 0.1 0.1 0.1 0.1\n",
       "    contourLength   (hru) float64 30.0 30.0 30.0 30.0 ... 30.0 30.0 30.0 30.0\n",
       "    slopeTypeIndex  (hru) int32 1 1 1 1 1 1 1 1 1 1 1 ... 1 1 1 1 1 1 1 1 1 1 1\n",
       "    soilTypeIndex   (hru) int32 3 3 3 3 3 3 3 3 3 3 3 ... 3 3 3 3 8 3 3 3 8 3 3\n",
       "    vegTypeIndex    (hru) int32 1 1 8 10 8 8 10 8 1 ... 8 16 10 10 9 10 8 10 1\n",
       "    mHeight         (hru) float64 3.0 3.0 3.0 3.0 3.0 ... 3.0 3.0 3.0 3.0 3.0"
      ]
     },
     "execution_count": 17,
     "metadata": {},
     "output_type": "execute_result"
    }
   ],
   "source": [
    "s.local_attributes"
   ]
  },
  {
   "cell_type": "code",
   "execution_count": null,
   "id": "11c260ce-0bcd-4a87-8dac-1f1bdf59f93f",
   "metadata": {},
   "outputs": [],
   "source": []
  }
 ],
 "metadata": {
  "kernelspec": {
   "display_name": "Python 3 (ipykernel)",
   "language": "python",
   "name": "python3"
  },
  "language_info": {
   "codemirror_mode": {
    "name": "ipython",
    "version": 3
   },
   "file_extension": ".py",
   "mimetype": "text/x-python",
   "name": "python",
   "nbconvert_exporter": "python",
   "pygments_lexer": "ipython3",
   "version": "3.8.10"
  }
 },
 "nbformat": 4,
 "nbformat_minor": 5
}
